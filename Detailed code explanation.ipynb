{
 "cells": [
  {
   "cell_type": "code",
   "execution_count": null,
   "id": "69b7c343-55b9-4975-a4a4-109524bfad41",
   "metadata": {},
   "outputs": [],
   "source": [
    "This jupyter notebook consists of all the codes and the purpose of each code.\n",
    "Please dont run the codes as it will give you error messages.\n",
    "To run the codes you can refer the \"JUPYTER ANALYSIS NOTEBOOK.ipynb\" file."
   ]
  },
  {
   "cell_type": "code",
   "execution_count": null,
   "id": "0bf9e1ac-b220-4081-8de4-7547c8584d8e",
   "metadata": {},
   "outputs": [],
   "source": [
    "### **1. Libraries and Data Loading**\n",
    "\n",
    "import pandas as pd\n",
    "import numpy as np\n",
    "import re\n",
    "from datetime import datetime, timedelta\n",
    "import matplotlib.pyplot as plt\n",
    "import seaborn as sns\n",
    "from scipy import stats\n",
    "\n",
    "- **Purpose**: Imports libraries for:\n",
    "  - `pandas`: Data manipulation.\n",
    "  - `numpy`: Numerical operations.\n",
    "  - `re`: Regular expressions for string processing.\n",
    "  - `datetime`: Date handling.\n",
    "  - `matplotlib/seaborn`: Plotting.\n",
    "  - `scipy.stats`: Statistical tests (e.g., t-tests)."
   ]
  },
  {
   "cell_type": "code",
   "execution_count": null,
   "id": "12c0c366-9807-479c-a656-210853059bf8",
   "metadata": {},
   "outputs": [],
   "source": [
    "### **2. Load Datasets**\n",
    "transactions = pd.read_csv(file_path + \"QVI_transaction_data.csv\")\n",
    "customers = pd.read_csv(file_path + \"QVI_purchase_behaviour.csv\")\n",
    "\n",
    "- **Purpose**: Load transaction and customer data from CSV files.\n",
    "- **Note**: Replace `file_path` with your actual directory path."
   ]
  },
  {
   "cell_type": "code",
   "execution_count": null,
   "id": "0f6dfef2-5d34-4a5c-acf1-7144198451b3",
   "metadata": {},
   "outputs": [],
   "source": [
    "### **3. Convert DATE Column**\n",
    "transactions['DATE'] = pd.to_datetime(transactions['DATE'], origin='1899-12-30', unit='D')\n",
    "\n",
    "- **What it does**:\n",
    "  - Converts integer dates (e.g., `43390`) to actual dates (e.g., `2018-10-17`).\n",
    "  - origin='1899-12-30': Excel’s date system starts from this date.\n",
    "  - unit='D': Treats the integer as days since the origin."
   ]
  },
  {
   "cell_type": "code",
   "execution_count": null,
   "id": "ef03825c-472e-47b7-b799-7e07df3da476",
   "metadata": {},
   "outputs": [],
   "source": [
    "### **4. Product Analysis**\n",
    "#### **Extract Words from Product Names**\n",
    "product_words = transactions['PROD_NAME'].str.split().explode().reset_index()\n",
    "\n",
    "- **str.split()**: Splits product names into lists of words.  \n",
    "  Example: \"Natural Chip SeaSalt\" → [\"Natural\", \"Chip\", \"SeaSalt\"].\n",
    "- **explode()**: Converts lists into individual rows.  \n",
    "  Example: A row with [\"Natural\", \"Chip\"] becomes two rows: \"Natural\" and \"Chip\".\n",
    "- **reset_index()**: Resets the index to retain the original row numbers."
   ]
  },
  {
   "cell_type": "code",
   "execution_count": null,
   "id": "8a40b9dd-9ab6-49d8-945a-85db05366419",
   "metadata": {},
   "outputs": [],
   "source": [
    "#### **Clean Words**\n",
    "product_words = product_words[~product_words['words'].str.contains(r'\\d', na=False)]\n",
    "product_words = product_words[product_words['words'].str.isalpha()]\n",
    "\n",
    "- **~product_words['words'].str.contains(r'\\d')**: Drops words containing digits (e.g., `175g`).\n",
    "- **str.isalpha()**: Keeps only alphabetic words (removes special characters)."
   ]
  },
  {
   "cell_type": "code",
   "execution_count": null,
   "id": "f810eb0f-6629-413a-9bb8-567652108cdb",
   "metadata": {},
   "outputs": [],
   "source": [
    "### **5. Remove Salsa Products**\n",
    "transactions = transactions[~transactions['PROD_NAME'].str.lower().str.contains('salsa')]\n",
    "\n",
    "- **Purpose**: Filters out rows where `PROD_NAME` contains \"salsa\".\n",
    "- **str.lower()**: Converts names to lowercase for case-insensitive matching."
   ]
  },
  {
   "cell_type": "code",
   "execution_count": null,
   "id": "8520e69a-de88-4f8b-a34a-53481234ffb2",
   "metadata": {},
   "outputs": [],
   "source": [
    "### **6. Handle Outliers**\n",
    "outlier_customer = transactions[transactions['PROD_QTY'] == 200]['LYLTY_CARD_NBR'].values[0]\n",
    "transactions = transactions[transactions['LYLTY_CARD_NBR'] != outlier_customer]\n",
    "\n",
    "- **Purpose**: Removes a customer who bought 200 packets (likely a commercial buyer).\n",
    "- **values[0]**: Extracts the loyalty card number of the outlier.\n",
    "- **transactions[... != ...]**: Filters out all transactions from this customer."
   ]
  },
  {
   "cell_type": "code",
   "execution_count": null,
   "id": "32bee683-ae43-4dbf-a682-520beccc8e58",
   "metadata": {},
   "outputs": [],
   "source": [
    "### **7. Create Pack Size Feature**\n",
    "transactions['PACK_SIZE'] = transactions['PROD_NAME'].str.extract(r'(\\d+)').astype(float)\n",
    "\n",
    "- **str.extract(r'(\\d+)')**: Extracts the first sequence of digits from `PROD_NAME` (e.g., `175g` → `175`).\n",
    "- **astype(float)**: Converts the extracted string to a numeric value."
   ]
  },
  {
   "cell_type": "code",
   "execution_count": null,
   "id": "3e84f412-f43d-43a6-bbad-debd2d847fb7",
   "metadata": {},
   "outputs": [],
   "source": [
    "### **8. Create Brand Feature**\n",
    "transactions['BRAND'] = transactions['PROD_NAME'].str.split().str[0].str.upper()\n",
    "\n",
    "- **str.split().str[0]**: Takes the first word of the product name (e.g., \"Kettle SeaSalt\" → \"Kettle\").\n",
    "- **str.upper()**: Converts the brand name to uppercase for consistency."
   ]
  },
  {
   "cell_type": "code",
   "execution_count": null,
   "id": "2dcb7691-67e0-4f47-a9a9-d1f04853d8de",
   "metadata": {},
   "outputs": [],
   "source": [
    "### **9. Clean Brand Names**\n",
    "brand_replacements = {'RED': 'RRD', 'SNBTS': 'SUNBITES', ...}\n",
    "transactions['BRAND'] = transactions['BRAND'].replace(brand_replacements)\n",
    "\n",
    "- **Purpose**: Consolidates variations of brand names (e.g., `\"RED\"` → `\"RRD\"`)."
   ]
  },
  {
   "cell_type": "code",
   "execution_count": null,
   "id": "cb298519-3854-430f-8b8b-d3df5f2594cb",
   "metadata": {},
   "outputs": [],
   "source": [
    "### **10. Merge Datasets**\n",
    "data = pd.merge(transactions, customers, on='LYLTY_CARD_NBR', how='left')\n",
    "\n",
    "- **on='LYLTY_CARD_NBR'**: Joins on the loyalty card number.\n",
    "- **how='left'**: Keeps all rows from `transactions` (equivalent to R’s `all.x = TRUE`)."
   ]
  },
  {
   "cell_type": "code",
   "execution_count": null,
   "id": "275785e1-2c81-460b-980d-7e3efc50531f",
   "metadata": {},
   "outputs": [],
   "source": [
    "### **11. Analysis Functions**\n",
    "def calculate_metrics(df):\n",
    "    return pd.DataFrame({\n",
    "        'SALES': df['TOT_SALES'].sum(),\n",
    "        'CUSTOMERS': df['LYLTY_CARD_NBR'].nunique(),\n",
    "        'AVG_UNITS': df['PROD_QTY'].sum() / df['LYLTY_CARD_NBR'].nunique(),\n",
    "        'AVG_PRICE': df['TOT_SALES'].sum() / df['PROD_QTY'].sum()\n",
    "    })\n",
    "\n",
    "- **Purpose**: Calculates key metrics for each customer segment:\n",
    "  - Total sales.\n",
    "  - Number of unique customers.\n",
    "  - Average units per customer.\n",
    "  - Average price per unit."
   ]
  },
  {
   "cell_type": "code",
   "execution_count": null,
   "id": "88cc28ef-32d3-4ecc-a0bd-45eb4825c673",
   "metadata": {},
   "outputs": [],
   "source": [
    "### **12. Group by Segments**\n",
    "segment_analysis = data.groupby(['LIFESTAGE', 'PREMIUM_CUSTOMER']).apply(calculate_metrics).reset_index()\n",
    "\n",
    "- **groupby()**: Groups data by `LIFESTAGE` and `PREMIUM_CUSTOMER`.\n",
    "- **apply(calculate_metrics)**: Applies the metric calculation to each group."
   ]
  },
  {
   "cell_type": "code",
   "execution_count": null,
   "id": "8442081f-c243-4690-832b-257f9db7eb5b",
   "metadata": {},
   "outputs": [],
   "source": [
    "### **13. Plot Total Sales**\n",
    "sns.barplot(x='LIFESTAGE', y='SALES', hue='PREMIUM_CUSTOMER', data=segment_analysis)\n",
    "\n",
    "- **Purpose**: Visualizes total sales by customer segments.\n",
    "- **hue='PREMIUM_CUSTOMER'**: Splits bars by premium status."
   ]
  },
  {
   "cell_type": "code",
   "execution_count": null,
   "id": "16f291c9-4bc9-418b-a9cb-5c329283faf5",
   "metadata": {},
   "outputs": [],
   "source": [
    "### **14. T-Test Implementation**\n",
    "t_stat, p_value = stats.ttest_ind(mainstream.dropna(), others.dropna())\n",
    "\n",
    "- **Purpose**: Tests if the average price paid by mainstream customers is significantly higher than others.\n",
    "- **ttest_ind()**: Independent t-test (compares two groups)."
   ]
  },
  {
   "cell_type": "code",
   "execution_count": null,
   "id": "d3181dc1-1eb8-403a-bbcf-d8cbb211c26b",
   "metadata": {},
   "outputs": [],
   "source": [
    "### **15. Brand Affinity Analysis**\n",
    "\n",
    "brand_affinity = (segment.groupby('BRAND')['PROD_QTY'].sum() / segment_total) / (others.groupby('BRAND')['PROD_QTY'].sum() / others_total)\n",
    "```\n",
    "- **Purpose**: Compares the proportion of brand purchases for a target segment vs. others.\n",
    "- **Example**: A value of `1.23` means the segment is 23% more likely to buy that brand."
   ]
  }
 ],
 "metadata": {
  "kernelspec": {
   "display_name": "Python 3 (ipykernel)",
   "language": "python",
   "name": "python3"
  },
  "language_info": {
   "codemirror_mode": {
    "name": "ipython",
    "version": 3
   },
   "file_extension": ".py",
   "mimetype": "text/x-python",
   "name": "python",
   "nbconvert_exporter": "python",
   "pygments_lexer": "ipython3",
   "version": "3.12.4"
  }
 },
 "nbformat": 4,
 "nbformat_minor": 5
}
